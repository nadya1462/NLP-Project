{
  "nbformat": 4,
  "nbformat_minor": 0,
  "metadata": {
    "colab": {
      "provenance": [],
      "collapsed_sections": [
        "yGPGwwmkpGJN",
        "D_PMleThWdcM",
        "zzK6PhVMQz9y"
      ],
      "authorship_tag": "ABX9TyOb02Zvj5FQCwJRsKggcLvA",
      "include_colab_link": true
    },
    "kernelspec": {
      "name": "python3",
      "display_name": "Python 3"
    },
    "language_info": {
      "name": "python"
    }
  },
  "cells": [
    {
      "cell_type": "markdown",
      "metadata": {
        "id": "view-in-github",
        "colab_type": "text"
      },
      "source": [
        "<a href=\"https://colab.research.google.com/github/nadya1462/NLP-Project/blob/main/decoding_analysis.ipynb\" target=\"_parent\"><img src=\"https://colab.research.google.com/assets/colab-badge.svg\" alt=\"Open In Colab\"/></a>"
      ]
    },
    {
      "cell_type": "markdown",
      "source": [
        "Installing the packages"
      ],
      "metadata": {
        "id": "YCY2o_LWQukh"
      }
    },
    {
      "cell_type": "code",
      "execution_count": 47,
      "metadata": {
        "id": "wh0ppVt8osrJ",
        "colab": {
          "base_uri": "https://localhost:8080/"
        },
        "outputId": "eaa5178b-54a1-4841-c52c-3e48b06746bd"
      },
      "outputs": [
        {
          "output_type": "stream",
          "name": "stdout",
          "text": [
            "Drive already mounted at /content/drive; to attempt to forcibly remount, call drive.mount(\"/content/drive\", force_remount=True).\n"
          ]
        }
      ],
      "source": [
        "import os, requests\n",
        "import numpy as np\n",
        "import pandas as pd\n",
        "import matplotlib.pyplot as plt\n",
        "import pickle as pkl\n",
        "\n",
        "from sklearn.metrics import mean_squared_error\n",
        "from sklearn.model_selection import train_test_split\n",
        "from sklearn.linear_model import LinearRegression\n",
        "from sklearn.preprocessing import PolynomialFeatures\n",
        "from sklearn.linear_model import LogisticRegression\n",
        "from statsmodels.miscmodels.ordinal_model import OrderedModel\n",
        "\n",
        "import torch\n",
        "from torch import nn\n",
        "from torch import optim\n",
        "\n",
        "from google.colab import drive\n",
        "drive.mount('/content/drive')"
      ]
    },
    {
      "cell_type": "markdown",
      "source": [
        "Loading the dataset"
      ],
      "metadata": {
        "id": "R0vn5sB_QULx"
      }
    },
    {
      "cell_type": "code",
      "source": [
        "fname = \"stringer_orientations.npy\"\n",
        "url = \"https://osf.io/ny4ut/download\"\n",
        "\n",
        "if not os.path.isfile(fname):\n",
        "  try:\n",
        "    r = requests.get(url)\n",
        "  except requests.ConnectionError:\n",
        "    print(\"!!! Failed to download data !!!\")\n",
        "  else:\n",
        "    if r.status_code != requests.codes.ok:\n",
        "      print(\"!!! Failed to download data !!!\")\n",
        "    else:\n",
        "      with open(fname, \"wb\") as fid:\n",
        "        fid.write(r.content)\n",
        "\n",
        "dat = np.load('stringer_orientations.npy', allow_pickle=True).item()"
      ],
      "metadata": {
        "id": "Th7x64ohID4n"
      },
      "execution_count": 49,
      "outputs": []
    },
    {
      "cell_type": "code",
      "source": [
        "fname = \"fitted_params.pkl\"\n",
        "url = \"https://github.com/JKilgallen/Neurons/raw/main/fitted_params.pkl\"\n",
        "\n",
        "if not os.path.isfile(fname):\n",
        "  try:\n",
        "    r = requests.get(url)\n",
        "  except requests.ConnectionError:\n",
        "    print(\"!!! Failed to download data !!!\")\n",
        "  else:\n",
        "    if r.status_code != requests.codes.ok:\n",
        "      print(\"!!! Failed to download data !!!\")\n",
        "    else:\n",
        "      with open(fname, \"wb\") as fid:\n",
        "        fid.write(r.content)\n",
        "\n",
        "with open('fitted_params.pkl', 'rb') as f:\n",
        "  params = pkl.load(f)\n",
        "params = params.set_index('neuron')"
      ],
      "metadata": {
        "id": "cFYCsbywGiWy"
      },
      "execution_count": 50,
      "outputs": []
    },
    {
      "cell_type": "code",
      "source": [
        "fname = \"populations.pkl\"\n",
        "url = \"https://github.com/JKilgallen/Neurons/raw/main/populations.pkl\"\n",
        "\n",
        "if not os.path.isfile(fname):\n",
        "  try:\n",
        "    r = requests.get(url)\n",
        "  except requests.ConnectionError:\n",
        "    print(\"!!! Failed to download data !!!\")\n",
        "  else:\n",
        "    if r.status_code != requests.codes.ok:\n",
        "      print(\"!!! Failed to download data !!!\")\n",
        "    else:\n",
        "      with open(fname, \"wb\") as fid:\n",
        "        fid.write(r.content)\n",
        "\n",
        "with open('populations.pkl', 'rb') as f:\n",
        "  populations = pkl.load(f)"
      ],
      "metadata": {
        "id": "7eTgCqaRJBQB"
      },
      "execution_count": 51,
      "outputs": []
    },
    {
      "cell_type": "code",
      "source": [
        "high_div_pop_ind = populations['high_diversity']\n",
        "high_sel_pop_ind = populations['high_selectivity']"
      ],
      "metadata": {
        "id": "pdrlftQHKRB4"
      },
      "execution_count": 60,
      "outputs": []
    },
    {
      "cell_type": "markdown",
      "source": [
        "### Linear Regression approach"
      ],
      "metadata": {
        "id": "c9LFeRReQpZ4"
      }
    },
    {
      "cell_type": "code",
      "source": [
        "def get_LG_scores(model, sresp, istim):\n",
        "  \"\"\"\n",
        "  Calculate the score for fitting Linear Regression.\n",
        "\n",
        "  Parameters\n",
        "  -----------\n",
        "  sresp : array_like (n_stimulus, n_features)\n",
        "    The vector of features for each stimulus.\n",
        "  istim : array_like\n",
        "    The vector of stimulus.\n",
        "\n",
        "  Returns\n",
        "  -------\n",
        "  score : float\n",
        "    The score of the fit.\n",
        "  \"\"\"\n",
        "\n",
        "  r2_score = model.score(sresp, istim) # the coefficient of determination of the prediction\n",
        "\n",
        "  istim_pred = model.predict(sresp)\n",
        "  mse = mean_squared_error(istim, istim_pred)\n",
        "\n",
        "  return r2_score, mse"
      ],
      "metadata": {
        "id": "JwpO60B2IrH7"
      },
      "execution_count": 61,
      "outputs": []
    },
    {
      "cell_type": "code",
      "source": [
        "#inds = high_div_pop_ind\n",
        "inds = high_sel_pop_ind\n",
        "\n",
        "sresp, istim = dat['sresp'][inds, :], dat['istim']"
      ],
      "metadata": {
        "id": "lO1xzaZHJCId"
      },
      "execution_count": 64,
      "outputs": []
    },
    {
      "cell_type": "code",
      "source": [
        "# spliting the data into train and test sets\n",
        "sresp_train, sresp_test, istim_train, istim_test = train_test_split(sresp.T, istim,\n",
        "                                                                    test_size = 0.3, random_state = 42)\n",
        "\n",
        "reg = LinearRegression().fit(sresp_train, istim_train)\n",
        "\n",
        "# train scores\n",
        "train_r2_score, train_mse = get_LG_scores(reg, sresp_train, istim_train)\n",
        "print(f\"Train r2-score: {train_r2_score}\")\n",
        "print(f\"Train mse: {train_mse}\\n\")\n",
        "\n",
        "\n",
        "# test scores\n",
        "test_r2_score, test_mse = get_LG_scores(reg, sresp_test, istim_test)\n",
        "print(f\"Test r2-score: {test_r2_score}\")\n",
        "print(f\"Test mse: {test_mse}\")"
      ],
      "metadata": {
        "colab": {
          "base_uri": "https://localhost:8080/"
        },
        "id": "xI1sioYxIsrk",
        "outputId": "1a46dac1-e2cf-4210-90a9-c86c4b84a2f9"
      },
      "execution_count": 65,
      "outputs": [
        {
          "output_type": "stream",
          "name": "stdout",
          "text": [
            "Train r2-score: 1.0\n",
            "Train mse: 2.0958224736314523e-26\n",
            "\n",
            "Test r2-score: -59.04941454041165\n",
            "Test mse: 207.3980937779639\n"
          ]
        }
      ]
    },
    {
      "cell_type": "markdown",
      "source": [
        "### Non-linear Regression approach"
      ],
      "metadata": {
        "id": "yGPGwwmkpGJN"
      }
    },
    {
      "cell_type": "code",
      "source": [
        "def get_LG_scores(model, sresp, istim):\n",
        "  \"\"\"\n",
        "  Calculate the score for fitting Linear Regression.\n",
        "\n",
        "  Parameters\n",
        "  -----------\n",
        "  sresp : array_like (n_stimulus, n_features)\n",
        "    The vector of features for each stimulus.\n",
        "  istim : array_like\n",
        "    The vector of stimulus.\n",
        "\n",
        "  Returns\n",
        "  -------\n",
        "  score : float\n",
        "    The score of the fit.\n",
        "  \"\"\"\n",
        "\n",
        "  r2_score = model.score(sresp, istim) # the coefficient of determination of the prediction\n",
        "\n",
        "  istim_pred = model.predict(sresp)\n",
        "  mse = mean_squared_error(istim, istim_pred)\n",
        "\n",
        "  return r2_score, mse"
      ],
      "metadata": {
        "id": "O6peOSUypRLY"
      },
      "execution_count": 14,
      "outputs": []
    },
    {
      "cell_type": "code",
      "source": [
        "num_neurons = 10000\n",
        "num_stim = 4000\n",
        "\n",
        "inds = fitted_params['neuron'][:num_neurons]\n",
        "\n",
        "sresp, istim = dat['sresp'][inds, :num_stim], dat['istim'][:num_stim]"
      ],
      "metadata": {
        "id": "rawU4HQ3pFRG"
      },
      "execution_count": 15,
      "outputs": []
    },
    {
      "cell_type": "code",
      "source": [
        "polynomial_converter = PolynomialFeatures(degree = 2, include_bias = False)\n",
        "poly_features = polynomial_converter.fit_transform(sresp.T)\n",
        "\n",
        "# spliting the data into train and test sets\n",
        "sresp_train, sresp_test, istim_train, istim_test = train_test_split(poly_features, istim,\n",
        "                                                                    test_size = 0.3, random_state = 42)\n",
        "\n",
        "reg = LinearRegression(fit_intercept=True).fit(sresp_train, istim_train)\n",
        "\n",
        "# train scores\n",
        "train_r2_score, train_mse = get_LG_scores(reg, sresp_train, istim_train)\n",
        "print(f\"Train r2-score: {train_r2_score}\")\n",
        "print(f\"Train mse: {train_mse}\\n\")\n",
        "\n",
        "\n",
        "# test scores\n",
        "test_r2_score, test_mse = get_LG_scores(reg, sresp_test, istim_test)\n",
        "print(f\"Test r2-score: {test_r2_score}\")\n",
        "print(f\"Test mse: {test_mse}\")"
      ],
      "metadata": {
        "id": "GUP1uWYRpOOx"
      },
      "execution_count": null,
      "outputs": []
    },
    {
      "cell_type": "markdown",
      "source": [
        "### Ordinal and Multinomial Logistic Regression approach"
      ],
      "metadata": {
        "id": "D_PMleThWdcM"
      }
    },
    {
      "cell_type": "code",
      "source": [
        "num_neurons = 10000\n",
        "num_stim = 4000\n",
        "\n",
        "inds = fitted_params['neuron'][:num_neurons]\n",
        "\n",
        "sresp, istim = dat['sresp'][inds, :num_stim], dat['istim'][:num_stim]"
      ],
      "metadata": {
        "id": "BI6SiDJ1YBkK"
      },
      "execution_count": 9,
      "outputs": []
    },
    {
      "cell_type": "code",
      "source": [
        "# spliting the data into train and test sets\n",
        "sresp_train, sresp_test, istim_train, istim_test = train_test_split(sresp.T, istim,\n",
        "                                                                    test_size = 0.3, random_state = 42)"
      ],
      "metadata": {
        "id": "ew9NIPs1YDZO"
      },
      "execution_count": 11,
      "outputs": []
    },
    {
      "cell_type": "code",
      "source": [
        "clf = LogisticRegression(random_state=0, solver = 'sag', multi_class = 'multinomial').fit(sresp_train, istim_train)"
      ],
      "metadata": {
        "id": "zxsP1ybnfXZW"
      },
      "execution_count": null,
      "outputs": []
    },
    {
      "cell_type": "code",
      "source": [
        "mod_prob = OrderedModel(istim_train, sresp_train, distr='probit')"
      ],
      "metadata": {
        "id": "LLGJLA2gXDHU"
      },
      "execution_count": null,
      "outputs": []
    },
    {
      "cell_type": "markdown",
      "source": [
        "### Deep Learning approach"
      ],
      "metadata": {
        "id": "zzK6PhVMQz9y"
      }
    },
    {
      "cell_type": "code",
      "source": [
        "class DeepNetSigmoid(nn.Module):\n",
        "  \"\"\" network with a single hidden layer h with a Sigmoid activation function \"\"\"\n",
        "\n",
        "  def __init__(self, n_inputs, n_hidden):\n",
        "    super().__init__()  # needed to invoke the properties of the parent class nn.Module\n",
        "    self.in_layer = nn.Linear(n_inputs, n_hidden) # neural activity --> hidden units\n",
        "    self.out_layer = nn.Linear(n_hidden, 1) # hidden units --> output\n",
        "\n",
        "  def forward(self, r):\n",
        "    h = torch.sigmoid(self.in_layer(r))  # hidden representation # h is size (n_inputs, n_hidden)\n",
        "    y = self.out_layer(h) # y is size (n_inputs, 1)\n",
        "\n",
        "    return y"
      ],
      "metadata": {
        "id": "SsckZOLoXr-V"
      },
      "execution_count": 42,
      "outputs": []
    },
    {
      "cell_type": "code",
      "source": [
        "def train(net, loss_fn, train_data, train_labels,\n",
        "          n_epochs=50, learning_rate=1e-4):\n",
        "  \"\"\"Run gradient descent to optimize parameters of a given network\n",
        "\n",
        "  Args:\n",
        "    net (nn.Module): PyTorch network whose parameters to optimize\n",
        "    loss_fn: built-in PyTorch loss function to minimize\n",
        "    train_data (torch.Tensor): n_train x n_neurons tensor with neural\n",
        "      responses to train on\n",
        "    train_labels (torch.Tensor): n_train x 1 tensor with orientations of the\n",
        "      stimuli corresponding to each row of train_data\n",
        "    n_epochs (int, optional): number of epochs of gradient descent to run\n",
        "    learning_rate (float, optional): learning rate to use for gradient descent\n",
        "\n",
        "  Returns:\n",
        "    (list): training loss over iterations\n",
        "\n",
        "  \"\"\"\n",
        "\n",
        "  # Initialize PyTorch SGD optimizer\n",
        "  optimizer = optim.SGD(net.parameters(), lr=learning_rate)\n",
        "\n",
        "  # Placeholder to save the loss at each iteration\n",
        "  train_loss = []\n",
        "\n",
        "  # Loop over epochs\n",
        "  for i in range(n_epochs):\n",
        "\n",
        "    # compute network output from inputs in train_data\n",
        "    out = net(train_data)  # compute network output from inputs in train_data\n",
        "\n",
        "    # evaluate loss function\n",
        "    loss = loss_fn(out, train_labels)\n",
        "\n",
        "    # Clear previous gradients\n",
        "    optimizer.zero_grad()\n",
        "\n",
        "    # Compute gradients\n",
        "    loss.backward()\n",
        "\n",
        "    # Update weights\n",
        "    optimizer.step()\n",
        "\n",
        "    # Store current value of loss\n",
        "    train_loss.append(loss.item())  # .item() needed to transform the tensor output of loss_fn to a scalar\n",
        "\n",
        "    # Track progress\n",
        "    if (i + 1) % (n_epochs // 5) == 0:\n",
        "      print(f'iteration {i + 1}/{n_epochs} | loss: {loss.item():.3f}')\n",
        "\n",
        "  return train_loss"
      ],
      "metadata": {
        "id": "WWANCRhTYDZd"
      },
      "execution_count": 43,
      "outputs": []
    },
    {
      "cell_type": "code",
      "source": [
        "def plot_train_loss(train_loss):\n",
        "  plt.plot(train_loss)\n",
        "  plt.xlabel('iterations of gradient descent')\n",
        "  plt.ylabel('mean squared error')\n",
        "  plt.show()"
      ],
      "metadata": {
        "id": "sEsA-HdHYXgd"
      },
      "execution_count": 44,
      "outputs": []
    },
    {
      "cell_type": "code",
      "source": [
        "num_neurons = 10000\n",
        "num_stim = 4000\n",
        "\n",
        "inds = fitted_params['neuron'][:num_neurons]\n",
        "\n",
        "sresp, istim = dat['sresp'][inds, :num_stim], dat['istim'][:num_stim]\n",
        "\n",
        "# spliting the data into train and test sets\n",
        "sresp_train, sresp_test, istim_train, istim_test = train_test_split(torch.from_numpy(sresp.T), torch.from_numpy(istim),\n",
        "                                                                    test_size = 0.3, random_state = 42)"
      ],
      "metadata": {
        "id": "FMLGEjO8f5Uw"
      },
      "execution_count": 45,
      "outputs": []
    },
    {
      "cell_type": "code",
      "source": [
        "# Set random seeds for reproducibility\n",
        "np.random.seed(1)\n",
        "torch.manual_seed(1)\n",
        "\n",
        "# Initialize network with 10 hidden units\n",
        "net = DeepNetSigmoid(num_neurons, 4096)\n",
        "\n",
        "# Initialize PyTorch mean squared error loss function\n",
        "loss_fn = nn.MSELoss()\n",
        "\n",
        "# Run gradient descent on data\n",
        "train_loss = train(net, loss_fn, sresp_train.type(torch.FloatTensor), istim_train.type(torch.FloatTensor),\n",
        "                    n_epochs=50, learning_rate=1e-2)\n",
        "\n",
        "# Plot the training loss over iterations of GD\n",
        "plot_train_loss(train_loss)"
      ],
      "metadata": {
        "colab": {
          "base_uri": "https://localhost:8080/",
          "height": 536
        },
        "id": "oF1gkQ3nYFQu",
        "outputId": "271e5021-050d-4a3e-d298-61e621f01491"
      },
      "execution_count": 46,
      "outputs": [
        {
          "output_type": "stream",
          "name": "stdout",
          "text": [
            "iteration 10/50 | loss: 18.671\n",
            "iteration 20/50 | loss: 9.996\n",
            "iteration 30/50 | loss: 5.184\n",
            "iteration 40/50 | loss: 3.789\n",
            "iteration 50/50 | loss: 3.384\n"
          ]
        },
        {
          "output_type": "display_data",
          "data": {
            "text/plain": [
              "<Figure size 640x480 with 1 Axes>"
            ],
            "image/png": "[encoded data removed]"
          },
          "metadata": {}
        }
      ]
    },
    {
      "cell_type": "code",
      "source": [],
      "metadata": {
        "id": "rwctoOaMrmCT"
      },
      "execution_count": null,
      "outputs": []
    }
  ]
}